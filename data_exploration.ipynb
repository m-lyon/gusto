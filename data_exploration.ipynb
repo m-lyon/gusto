{
 "cells": [
  {
   "cell_type": "code",
   "execution_count": 1,
   "metadata": {},
   "outputs": [],
   "source": [
    "import pandas as pd\n",
    "import numpy as np"
   ]
  },
  {
   "cell_type": "code",
   "execution_count": 2,
   "metadata": {},
   "outputs": [],
   "source": [
    "df = pd.read_csv('data/3-9-48-72months_383CpGs_153indivs_age_related.csv')"
   ]
  },
  {
   "cell_type": "code",
   "execution_count": 3,
   "metadata": {},
   "outputs": [
    {
     "data": {
      "text/html": [
       "<div>\n",
       "<style scoped>\n",
       "    .dataframe tbody tr th:only-of-type {\n",
       "        vertical-align: middle;\n",
       "    }\n",
       "\n",
       "    .dataframe tbody tr th {\n",
       "        vertical-align: top;\n",
       "    }\n",
       "\n",
       "    .dataframe thead th {\n",
       "        text-align: right;\n",
       "    }\n",
       "</style>\n",
       "<table border=\"1\" class=\"dataframe\">\n",
       "  <thead>\n",
       "    <tr style=\"text-align: right;\">\n",
       "      <th></th>\n",
       "      <th>ProbeID</th>\n",
       "      <th>ID</th>\n",
       "      <th>Months</th>\n",
       "      <th>Input</th>\n",
       "      <th>Output</th>\n",
       "    </tr>\n",
       "  </thead>\n",
       "  <tbody>\n",
       "    <tr>\n",
       "      <th>0</th>\n",
       "      <td>cg12140144</td>\n",
       "      <td>010-20742</td>\n",
       "      <td>3</td>\n",
       "      <td>0.257534</td>\n",
       "      <td>0.015724</td>\n",
       "    </tr>\n",
       "    <tr>\n",
       "      <th>1</th>\n",
       "      <td>cg26933021</td>\n",
       "      <td>010-20742</td>\n",
       "      <td>3</td>\n",
       "      <td>0.257534</td>\n",
       "      <td>0.836433</td>\n",
       "    </tr>\n",
       "    <tr>\n",
       "      <th>2</th>\n",
       "      <td>cg20822990</td>\n",
       "      <td>010-20742</td>\n",
       "      <td>3</td>\n",
       "      <td>0.257534</td>\n",
       "      <td>0.025841</td>\n",
       "    </tr>\n",
       "    <tr>\n",
       "      <th>3</th>\n",
       "      <td>cg07312601</td>\n",
       "      <td>010-20742</td>\n",
       "      <td>3</td>\n",
       "      <td>0.257534</td>\n",
       "      <td>0.795169</td>\n",
       "    </tr>\n",
       "    <tr>\n",
       "      <th>4</th>\n",
       "      <td>cg09993145</td>\n",
       "      <td>010-20742</td>\n",
       "      <td>3</td>\n",
       "      <td>0.257534</td>\n",
       "      <td>0.944354</td>\n",
       "    </tr>\n",
       "    <tr>\n",
       "      <th>...</th>\n",
       "      <td>...</td>\n",
       "      <td>...</td>\n",
       "      <td>...</td>\n",
       "      <td>...</td>\n",
       "      <td>...</td>\n",
       "    </tr>\n",
       "    <tr>\n",
       "      <th>157191</th>\n",
       "      <td>cg00343092</td>\n",
       "      <td>010-20640</td>\n",
       "      <td>72</td>\n",
       "      <td>6.101370</td>\n",
       "      <td>0.025154</td>\n",
       "    </tr>\n",
       "    <tr>\n",
       "      <th>157192</th>\n",
       "      <td>cg00347775</td>\n",
       "      <td>010-20640</td>\n",
       "      <td>72</td>\n",
       "      <td>6.101370</td>\n",
       "      <td>0.665258</td>\n",
       "    </tr>\n",
       "    <tr>\n",
       "      <th>157193</th>\n",
       "      <td>cg27131176</td>\n",
       "      <td>010-20640</td>\n",
       "      <td>72</td>\n",
       "      <td>6.101370</td>\n",
       "      <td>0.197753</td>\n",
       "    </tr>\n",
       "    <tr>\n",
       "      <th>157194</th>\n",
       "      <td>cg22982767</td>\n",
       "      <td>010-20640</td>\n",
       "      <td>72</td>\n",
       "      <td>6.101370</td>\n",
       "      <td>0.035526</td>\n",
       "    </tr>\n",
       "    <tr>\n",
       "      <th>157195</th>\n",
       "      <td>cg07016730</td>\n",
       "      <td>010-20640</td>\n",
       "      <td>72</td>\n",
       "      <td>6.101370</td>\n",
       "      <td>0.770296</td>\n",
       "    </tr>\n",
       "  </tbody>\n",
       "</table>\n",
       "<p>157196 rows × 5 columns</p>\n",
       "</div>"
      ],
      "text/plain": [
       "           ProbeID         ID  Months     Input    Output\n",
       "0       cg12140144  010-20742       3  0.257534  0.015724\n",
       "1       cg26933021  010-20742       3  0.257534  0.836433\n",
       "2       cg20822990  010-20742       3  0.257534  0.025841\n",
       "3       cg07312601  010-20742       3  0.257534  0.795169\n",
       "4       cg09993145  010-20742       3  0.257534  0.944354\n",
       "...            ...        ...     ...       ...       ...\n",
       "157191  cg00343092  010-20640      72  6.101370  0.025154\n",
       "157192  cg00347775  010-20640      72  6.101370  0.665258\n",
       "157193  cg27131176  010-20640      72  6.101370  0.197753\n",
       "157194  cg22982767  010-20640      72  6.101370  0.035526\n",
       "157195  cg07016730  010-20640      72  6.101370  0.770296\n",
       "\n",
       "[157196 rows x 5 columns]"
      ]
     },
     "execution_count": 3,
     "metadata": {},
     "output_type": "execute_result"
    }
   ],
   "source": [
    "df"
   ]
  },
  {
   "cell_type": "code",
   "execution_count": 6,
   "metadata": {},
   "outputs": [],
   "source": [
    "# Step 1: Check if each unique ID has all 4 months\n",
    "months = {3, 9, 48, 72}\n",
    "valid_ids_months = df.groupby('ID')['Months'].apply(lambda x: set(x) == months)"
   ]
  },
  {
   "cell_type": "code",
   "execution_count": 8,
   "metadata": {},
   "outputs": [
    {
     "data": {
      "text/plain": [
       "43"
      ]
     },
     "execution_count": 8,
     "metadata": {},
     "output_type": "execute_result"
    }
   ],
   "source": [
    "valid_ids_months.sum()"
   ]
  },
  {
   "cell_type": "code",
   "execution_count": 9,
   "metadata": {},
   "outputs": [],
   "source": [
    "# Step 2: Check if each unique ID has all 383 unique ProbeIDs\n",
    "unique_probeids = set(df['ProbeID'].unique())\n",
    "valid_ids_probeids = df.groupby('ID')['ProbeID'].apply(lambda x: set(x) == unique_probeids)"
   ]
  },
  {
   "cell_type": "code",
   "execution_count": 17,
   "metadata": {},
   "outputs": [
    {
     "data": {
      "text/plain": [
       "57"
      ]
     },
     "execution_count": 17,
     "metadata": {},
     "output_type": "execute_result"
    }
   ],
   "source": [
    "valid_ids_probeids.sum()"
   ]
  },
  {
   "cell_type": "code",
   "execution_count": 28,
   "metadata": {},
   "outputs": [],
   "source": [
    "# Step 3: Check if each unique ID has non-zero values for Input\n",
    "valid_ids_non_zero_input = df.groupby('ID')['Input'].apply(lambda x: (x > 0).all())"
   ]
  },
  {
   "cell_type": "code",
   "execution_count": 29,
   "metadata": {},
   "outputs": [
    {
     "data": {
      "text/plain": [
       "153"
      ]
     },
     "execution_count": 29,
     "metadata": {},
     "output_type": "execute_result"
    }
   ],
   "source": [
    "valid_ids_non_zero_input.sum()"
   ]
  },
  {
   "cell_type": "code",
   "execution_count": 30,
   "metadata": {},
   "outputs": [],
   "source": [
    "# Step 3: Check if each unique ID has non-zero values for Output\n",
    "valid_ids_non_zero_output = df.groupby('ID')['Output'].apply(lambda x: (x > 0).all())"
   ]
  },
  {
   "cell_type": "code",
   "execution_count": 31,
   "metadata": {},
   "outputs": [
    {
     "data": {
      "text/plain": [
       "71"
      ]
     },
     "execution_count": 31,
     "metadata": {},
     "output_type": "execute_result"
    }
   ],
   "source": [
    "valid_ids_non_zero_output.sum()"
   ]
  },
  {
   "cell_type": "code",
   "execution_count": 32,
   "metadata": {},
   "outputs": [],
   "source": [
    "# Combine all conditions\n",
    "valid_ids = valid_ids_months & valid_ids_probeids & valid_ids_non_zero_input & valid_ids_non_zero_output"
   ]
  },
  {
   "cell_type": "code",
   "execution_count": 33,
   "metadata": {},
   "outputs": [
    {
     "data": {
      "text/plain": [
       "15"
      ]
     },
     "execution_count": 33,
     "metadata": {},
     "output_type": "execute_result"
    }
   ],
   "source": [
    "valid_ids.sum()"
   ]
  },
  {
   "cell_type": "code",
   "execution_count": 36,
   "metadata": {},
   "outputs": [
    {
     "data": {
      "text/plain": [
       "15"
      ]
     },
     "execution_count": 36,
     "metadata": {},
     "output_type": "execute_result"
    }
   ],
   "source": [
    "(valid_ids_months & valid_ids_non_zero_output).sum()"
   ]
  },
  {
   "cell_type": "code",
   "execution_count": null,
   "metadata": {},
   "outputs": [],
   "source": []
  }
 ],
 "metadata": {
  "kernelspec": {
   "display_name": "gusto",
   "language": "python",
   "name": "python3"
  },
  "language_info": {
   "codemirror_mode": {
    "name": "ipython",
    "version": 3
   },
   "file_extension": ".py",
   "mimetype": "text/x-python",
   "name": "python",
   "nbconvert_exporter": "python",
   "pygments_lexer": "ipython3",
   "version": "3.1.-1"
  }
 },
 "nbformat": 4,
 "nbformat_minor": 2
}
